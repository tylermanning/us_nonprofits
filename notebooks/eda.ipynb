{
 "cells": [
  {
   "cell_type": "code",
   "execution_count": null,
   "id": "0a147ccc",
   "metadata": {},
   "outputs": [],
   "source": [
    "import plotly.express as px\n",
    "import pandas as pd\n",
    "import requests\n",
    "from us_nonprofits.etl import extract, transform"
   ]
  },
  {
   "cell_type": "markdown",
   "id": "70d63b09",
   "metadata": {},
   "source": [
    "# EOBMF Dataset"
   ]
  },
  {
   "cell_type": "code",
   "execution_count": null,
   "id": "f5e3e7d4",
   "metadata": {},
   "outputs": [],
   "source": [
    "# To look at a specific region, pass a region into this extract function, \n",
    "# otherwise it extracts and returns all regions by default\n",
    "df = extract()"
   ]
  },
  {
   "cell_type": "code",
   "execution_count": null,
   "id": "6674fcdd",
   "metadata": {},
   "outputs": [],
   "source": [
    "# What fields do we have?\n",
    "df.columns"
   ]
  },
  {
   "cell_type": "markdown",
   "id": "f48614c2",
   "metadata": {},
   "source": [
    "# What is the 'grain'\n",
    "EOBMF Extract:\n",
    "- My understanding is this dataset is a cumulative list of every unique tax-exempt business entity (non-profit) in the US. This list is updated on a monthly basis with the most recent tax information from the IRS. "
   ]
  },
  {
   "cell_type": "markdown",
   "id": "d95a7380",
   "metadata": {},
   "source": [
    "# Broad Categories of Dataset\n",
    "\n",
    "EOBMF Extract has:\n",
    "- Geographical information\n",
    "    - `STREET`, `CITY`, `STATE`, `ZIP`\n",
    "- Nonprofit code/identifier information\n",
    "    - `EIN`, `NAME`, `ICO`, `GROUP`, `SUBSECTION`, `AFFILIATION`, `CLASSIFICATION`, `RULING`, `DEDUCTIBILITY`, `FOUNDATION`, `ACTIVITY`, `ORGANIZATION`, `STATUS`, `NTEE_CD`, `SORT_NAME`\n",
    "- Most recent, high level tax filing information\n",
    "    - `TAX_PERIOD`, `ASSET_CD`, `INCOME_CD`, `FILING_REQ_CD`,\n",
    "       `PF_FILING_REQ_CD`, `ACCT_PD`, `ASSET_AMT`, `INCOME_AMT`, `REVENUE_AMT`"
   ]
  },
  {
   "cell_type": "markdown",
   "id": "bb6f1302",
   "metadata": {},
   "source": [
    "# Business/Research Problem to Investigate"
   ]
  },
  {
   "cell_type": "markdown",
   "id": "0673bad2",
   "metadata": {},
   "source": [
    "I am not exactly sure what to make of the EOBMF dataset on its own, but my understanding is that this dataset contains mostly reference data for US nonprofits. So the main data of interest to me is the tax filing information, e.g. total revenue, income and assets amounts.\n",
    "\n",
    "I would assume the most important information to a nonprofit is their revenue & expenses. Any ways they can increase the former or decrease the latter would be very critical for them. It may be interesting to see how similar nonprofits compare with each other or how they differ for spotting anomolies in this sense.\n",
    "\n",
    "Another thing that I am personally interested is how much of a nonprofit's revenue goes to the cause it is for rather than salaries, marketing, infrastructure expenses. I'd be more keen to donate to nonprofits that have a good \"return\" on money donated. If only 1 cent of every dollar i give goes to the actual cause, I may be inclined to look at other options."
   ]
  },
  {
   "cell_type": "markdown",
   "id": "b949fc6a",
   "metadata": {},
   "source": [
    "First, I will try to get a quick handle on how the data is distributed among the different categories. As someone who has very little knowledge of the subject, some basic questions I'd like to know are:\n",
    "- How are the nonprofits distributed among the different regions/states?\n",
    "- How are the organizational codes distributed? (corporation, trust, association etc.)\n",
    "- What does the exemption status look like among the different categories?\n",
    "- How many haven't filed in the last year?\n",
    "- Revenue/Income by sector/type, which sectors have most revenue?\n",
    "- What does the overall data quality of this dataset?"
   ]
  },
  {
   "cell_type": "markdown",
   "id": "6ca56827",
   "metadata": {},
   "source": [
    "## Exploratory Data Analysis"
   ]
  },
  {
   "cell_type": "markdown",
   "id": "11bd364e",
   "metadata": {},
   "source": [
    "From reading [the documentation here](https://www.irs.gov/pub/irs-soi/eo_info.pdf), it seems like:\n",
    "- `NTEE` code is better for getting a sense of nonprofits sector rather than `ACTIVITY` which seems to be a legacy field, so I will ignonre the latter for this analysis.\n",
    "- `SORT_NAME`, `RULING`, `FOUNDATION` seems less useful as well as, so I will ignore them for now.\n",
    "- Any column with suffix `_M` is a modified column that was added by me and not native to the datasource\n",
    "- All stats discussed below were reported on all regions combined of the EOBMF dataset."
   ]
  },
  {
   "cell_type": "code",
   "execution_count": null,
   "id": "d7d23924",
   "metadata": {},
   "outputs": [],
   "source": [
    "# Add new columns for analysis\n",
    "df['COMMON_CD_M'] = df['NTEE_CD'].str[:1]"
   ]
  },
  {
   "cell_type": "markdown",
   "id": "532f1da1",
   "metadata": {},
   "source": [
    "#### Income"
   ]
  },
  {
   "cell_type": "markdown",
   "id": "7643bf55",
   "metadata": {},
   "source": [
    "What's nice is the income/asset values are already categorized according to income bracekt (called `INCOME_CD`). So we can get a quick glance at how many enitties are in each group:"
   ]
  },
  {
   "cell_type": "code",
   "execution_count": null,
   "id": "ff2a1c34",
   "metadata": {},
   "outputs": [],
   "source": [
    "fig = px.histogram(df, \n",
    "                   x=\"INCOME_CD\", \n",
    "                   histnorm='percent', \n",
    "                   title=\"% of Nonprofits in each Income Bracket\")\n",
    "fig.show()"
   ]
  },
  {
   "cell_type": "markdown",
   "id": "5a3a7d8a",
   "metadata": {},
   "source": [
    "It looks like 63% of nonprofits in this dataset have zero income. There's a segment of them in the middle of the pack and very few at the top (as expected) but also very few between group 0 and group 3 (>$25K in income)."
   ]
  },
  {
   "cell_type": "code",
   "execution_count": null,
   "id": "9fb5028a",
   "metadata": {},
   "outputs": [],
   "source": [
    "df['INCOME_CD'].value_counts(normalize=True)*100"
   ]
  },
  {
   "cell_type": "markdown",
   "id": "732bcfcb",
   "metadata": {},
   "source": [
    "In fact, looking at just the nonprofits that have zero income, 98% also have zero assets:"
   ]
  },
  {
   "cell_type": "code",
   "execution_count": null,
   "id": "5c7646f3",
   "metadata": {},
   "outputs": [],
   "source": [
    "df[df['INCOME_CD']==0]['ASSET_CD'].value_counts(normalize=True)"
   ]
  },
  {
   "cell_type": "code",
   "execution_count": null,
   "id": "8b5ee2a3",
   "metadata": {},
   "outputs": [],
   "source": [
    "df[df['INCOME_CD']==0]['REVENUE_AMT'].value_counts()"
   ]
  },
  {
   "cell_type": "markdown",
   "id": "3349e60a",
   "metadata": {},
   "source": [
    "#### Revenue"
   ]
  },
  {
   "cell_type": "code",
   "execution_count": null,
   "id": "17ef8876",
   "metadata": {},
   "outputs": [],
   "source": [
    "df['REVENUE_AMT'].describe()"
   ]
  },
  {
   "cell_type": "code",
   "execution_count": null,
   "id": "dc3cd52b",
   "metadata": {},
   "outputs": [],
   "source": [
    "Looks like revenues are extremely skewed and most are in fact zero. Let's see how much:"
   ]
  },
  {
   "cell_type": "code",
   "execution_count": null,
   "id": "7e26c834",
   "metadata": {},
   "outputs": [],
   "source": [
    "df['REVENUE_AMT'].value_counts(normalize=True)*100"
   ]
  },
  {
   "cell_type": "markdown",
   "id": "84317011",
   "metadata": {},
   "source": [
    "The revenue information for all the EINs is quite skewed. Looks like 58% reported zero revenue. There is a tiny portion of nonprofits that have massive revenues and a portion that have negative revenues. Not sure how to to interpret the latter."
   ]
  },
  {
   "cell_type": "markdown",
   "id": "5af94a57",
   "metadata": {},
   "source": [
    "#### Organization"
   ]
  },
  {
   "cell_type": "code",
   "execution_count": null,
   "id": "036b9827",
   "metadata": {},
   "outputs": [],
   "source": [
    "df['ORGANIZATION'].value_counts(normalize=True)*100"
   ]
  },
  {
   "cell_type": "markdown",
   "id": "f126fb77",
   "metadata": {},
   "source": [
    "Roughly ~95% of entities belong to two organization codes, **Corporation (72.5%)** and **Association (23%)**. Furthermore, looks like there are two codes, zero and six that aren't described in the online documentation. "
   ]
  },
  {
   "cell_type": "markdown",
   "id": "f27b5dde",
   "metadata": {},
   "source": [
    "#### Nonprofits by Sector"
   ]
  },
  {
   "cell_type": "markdown",
   "id": "666b0caf",
   "metadata": {},
   "source": [
    "Let's see what sectors have the most income in aggregate:"
   ]
  },
  {
   "cell_type": "code",
   "execution_count": null,
   "id": "050142b4",
   "metadata": {},
   "outputs": [],
   "source": [
    "sector_agg = df.groupby('COMMON_CD_M', as_index=False).agg({'INCOME_AMT': ['sum', 'mean', 'median', 'count']})"
   ]
  },
  {
   "cell_type": "code",
   "execution_count": null,
   "id": "52c1dc23",
   "metadata": {},
   "outputs": [],
   "source": [
    "fig = px.bar(y=sector_agg['INCOME_AMT']['sum'], \n",
    "             x=sector_agg['COMMON_CD_M'], \n",
    "             title='Total Income by Common Code (Proxy for Sector)')\n",
    "fig.update_layout(\n",
    "    xaxis_title=\"First Letter of Common Code\",\n",
    "    yaxis_title=\"Total Income ($)\")\n",
    "fig.show()"
   ]
  },
  {
   "cell_type": "markdown",
   "id": "3af82bb7",
   "metadata": {},
   "source": [
    "The top 5 broad sectors are:\n",
    "1. Health – General and Rehabilitative (E)\n",
    "2. Educational Institutions and Related Activities (B)\n",
    "3. Philanthropy, Voluntarism and Grantmaking Foundations (T)\n",
    "4. Mutual/Membership Benefit Organizations, Other (Y)\n",
    "5. Human Services – Multipurpose and Other (P)\n",
    "\n",
    "These 5 sectors represent just over 80% of all nonprofit revenue in the US, with the largest (Health) accounting for nearly 40% of the total nonprofit income."
   ]
  },
  {
   "cell_type": "code",
   "execution_count": null,
   "id": "9290f16e",
   "metadata": {},
   "outputs": [],
   "source": [
    "fig = px.pie(values=sector_agg['INCOME_AMT']['sum'], \n",
    "             names=sector_agg['COMMON_CD_M'],\n",
    "             title='Share of Total Nonprofit Income by Common Code (Proxy for Sector)')\n",
    "fig.show()"
   ]
  },
  {
   "cell_type": "code",
   "execution_count": null,
   "id": "c7240ae0",
   "metadata": {},
   "outputs": [],
   "source": [
    "fig = px.bar(y=sector_agg['INCOME_AMT']['median'], \n",
    "             x=sector_agg['COMMON_CD_M'], \n",
    "             title='Median Income by Common Code (Proxy for Sector)')\n",
    "fig.update_layout(\n",
    "    xaxis_title=\"First Letter of Common Code\",\n",
    "    yaxis_title=\"Total Income ($)\")\n",
    "fig.show()"
   ]
  },
  {
   "cell_type": "markdown",
   "id": "a37fad38",
   "metadata": {},
   "source": [
    "I am not quite sure what to make of the 3 EINs that have a lower case \"c\" common code as the firs digit. Seems like this should be capitalized."
   ]
  },
  {
   "cell_type": "code",
   "execution_count": null,
   "id": "ff59bcf2",
   "metadata": {},
   "outputs": [],
   "source": [
    "df[df['COMMON_CD_M']=='c']"
   ]
  },
  {
   "cell_type": "markdown",
   "id": "85b17c0d",
   "metadata": {},
   "source": [
    "#### Income / Revenue by State"
   ]
  },
  {
   "cell_type": "code",
   "execution_count": null,
   "id": "230c7ba1",
   "metadata": {},
   "outputs": [],
   "source": [
    "state_agg = df.groupby('STATE', as_index=False).agg({'INCOME_AMT': ['sum', 'mean', 'median', 'count'],\n",
    "                                                     'REVENUE_AMT': ['sum', 'mean', 'median', 'count']})"
   ]
  },
  {
   "cell_type": "code",
   "execution_count": null,
   "id": "29185e52",
   "metadata": {},
   "outputs": [],
   "source": [
    "state_agg.sort_values([('INCOME_AMT','sum')], ascending=False).head(20)"
   ]
  },
  {
   "cell_type": "markdown",
   "id": "19bd19d6",
   "metadata": {},
   "source": [
    "Nothing really jumps out at me here. The most income/revenue seems to align with the richest states in the US."
   ]
  },
  {
   "cell_type": "markdown",
   "id": "22d22d08",
   "metadata": {},
   "source": [
    "#### Wrapping Up\n",
    "\n",
    "Some open questions I have:\n",
    "- Is it expected that many nonprofits have zero/negative income? This seems to be equivalent to breaking even for private business. Similarly, how normal is it that most have no revenue? If revenue is only money generated from sales, donations, etc. then a lot of nonprofits bring in no money.\n",
    "- If I sampled this on a regular basis and kept track of historical values for each nonprofit, what kind of trends exist?\n",
    "- How do I group nonprofit entities that are branches that belong to one big mega nonprofit (e.g. all Scientology churches together)"
   ]
  },
  {
   "cell_type": "markdown",
   "id": "b5f326f8",
   "metadata": {},
   "source": [
    "# Form 990 Dataset"
   ]
  },
  {
   "cell_type": "code",
   "execution_count": 3,
   "id": "0296174c",
   "metadata": {},
   "outputs": [],
   "source": [
    "# x = pd.read_excel(\"https://www.irs.gov/pub/irs-soi/19eofinextractdoc.xlsx\", engine='openpyxl')"
   ]
  },
  {
   "cell_type": "code",
   "execution_count": 6,
   "id": "f647aa60",
   "metadata": {},
   "outputs": [],
   "source": [
    "# df2 = pd.read_excel(\"https://www.irs.gov/pub/irs-soi/19eoextract990.xlsx\", engine='openpyxl')"
   ]
  },
  {
   "cell_type": "code",
   "execution_count": 8,
   "id": "4a23996e",
   "metadata": {},
   "outputs": [],
   "source": [
    "# y = pd.read_excel(\"https://www.irs.gov/pub/irs-soi/19eoextractez.xlsx\", engine='openpyxl')"
   ]
  },
  {
   "cell_type": "code",
   "execution_count": 10,
   "id": "4e0927fb",
   "metadata": {},
   "outputs": [
    {
     "data": {
      "text/plain": [
       "Index(['elf', 'EIN', 'tax_pd', 'subseccd', 'totcntrbs', 'prgmservrev',\n",
       "       'duesassesmnts', 'othrinvstinc', 'grsamtsalesastothr',\n",
       "       'basisalesexpnsothr', 'gnsaleofastothr', 'grsincgaming',\n",
       "       'grsrevnuefndrsng', 'direxpns', 'netincfndrsng', 'grsalesminusret',\n",
       "       'costgoodsold', 'grsprft', 'othrevnue', 'totrevnue', 'totexpns',\n",
       "       'totexcessyr', 'othrchgsnetassetfnd', 'networthend', 'totassetsend',\n",
       "       'totliabend', 'totnetassetsend', 'actvtynotprevrptcd', 'chngsinorgcd',\n",
       "       'unrelbusincd', 'filedf990tcd', 'contractioncd', 'politicalexpend',\n",
       "       'filedf1120polcd', 'loanstoofficerscd', 'loanstoofficers',\n",
       "       'initiationfee', 'grspublicrcpts', 's4958excessbenefcd',\n",
       "       'prohibtdtxshltrcd', 'nonpfrea', 'totnooforgscnt', 'totsupport',\n",
       "       'gftgrntsrcvd170', 'txrevnuelevied170', 'srvcsval170',\n",
       "       'pubsuppsubtot170', 'exceeds2pct170', 'pubsupplesspct170',\n",
       "       'samepubsuppsubtot170', 'grsinc170', 'netincunreltd170', 'othrinc170',\n",
       "       'totsupp170', 'grsrcptsrelated170', 'totgftgrntrcvd509',\n",
       "       'grsrcptsadmissn509', 'grsrcptsactivities509', 'txrevnuelevied509',\n",
       "       'srvcsval509', 'pubsuppsubtot509', 'rcvdfrmdisqualsub509',\n",
       "       'exceeds1pct509', 'subtotpub509', 'pubsupplesub509',\n",
       "       'samepubsuppsubtot509', 'grsinc509', 'unreltxincls511tx509',\n",
       "       'subtotsuppinc509', 'netincunrelatd509', 'othrinc509', 'totsupp509'],\n",
       "      dtype='object')"
      ]
     },
     "execution_count": 10,
     "metadata": {},
     "output_type": "execute_result"
    }
   ],
   "source": [
    "# y.columns"
   ]
  },
  {
   "cell_type": "markdown",
   "id": "eb873dd9",
   "metadata": {},
   "source": [
    "To understand these columns [the documentation](https://www.irs.gov/pub/irs-soi/19eofinextractdoc.xlsx) is absolutely needed to make sense of it. What is written below is based on my interpretation of this data & docs. There's actually a lot less fields in the EZ 990 forms than the standard 990 tax forms (bout a third as many fields)."
   ]
  },
  {
   "cell_type": "markdown",
   "id": "c5212422",
   "metadata": {},
   "source": [
    "# What is the grain?"
   ]
  },
  {
   "cell_type": "markdown",
   "id": "405d6381",
   "metadata": {},
   "source": [
    "The \"grain\" for this dataset is more or less the same as the EOBMF dataset except it is more detailed. The EOBMF dump was more like a summary of the nonprofit enitties, whereas this dataset has all the tax filing data that is given on nearly every line of the 990 tax form."
   ]
  },
  {
   "cell_type": "markdown",
   "id": "68e5d5fe",
   "metadata": {},
   "source": [
    "Examining the documentation for this data, it looks like the dataset has:\n",
    "- EIN for identification\n",
    "- Compensation data \n",
    "- Breakdown of expenses \n",
    "- Breakdown of different revenue streams\n",
    "- Data on liabilities \n",
    "- Many yes/no fields"
   ]
  },
  {
   "cell_type": "markdown",
   "id": "d8842ff7",
   "metadata": {},
   "source": [
    "Because there is much more data here and it would take me much more time to figure out excatly what all the columns mean and the differences between the different 990 filings, I decided this was a good place to stop given the scope of the excercise."
   ]
  },
  {
   "cell_type": "markdown",
   "id": "b627bd81",
   "metadata": {},
   "source": [
    "## Next Steps"
   ]
  },
  {
   "cell_type": "markdown",
   "id": "0123d767",
   "metadata": {},
   "source": [
    "#### Data Pipelining & Normalization\n",
    "- I assume the data between the two datasources (990s and EOBMF) can be joined on the EIN column. Having said that, I am not entirely clear what group of nonprofits is in the 990-EZ filing vs the regular 990 filing. The latter has much more fields than the former, so I am not sure if some information is left out. There is also data for the 990-PF forms but they are not available past 2016.\n",
    "- The xlsx files are much bigger and will have be consumed in a better way than just reading it with `pandas` into memory. Also, some past files are in a `.dat` format so they would need some additional tweaking for `pandas` to correclty parse it. Furthermore, some are in ZIP files, so again gonna require more code and probably some caching of the data somewhere. \n",
    "- Many of the columns are binary (yes/no) data, so would have to encode them to 1 or 0 (one-hot encoding).\n",
    "\n",
    "#### Data Analysis\n",
    "- The data is dumped on a yearly basis, so you can see interesting YoY changes to revenue by a certain nonprofit or a certain sector of nonprofits. This could allow someone to see larger trends over time or regime changes. Though 8 years of data (2012-2019) might not be long enough to detect anything meaningful using standard time series techniques (ARIMA models). Might be only able to see extreme YoY changes. (e.g. when the ice bucket challenge generated a ton of money for ALS). Outliers like this might be easier to spot, especially given so many have no revenue.\n",
    "\n",
    "- There are a lot of columns/features for each EIN in this dataset, I would try some dimensionalty reduction techniques like PCA to determine what loadings are contributing most to the revenue or expenses. For example, are there variables that contribute towards a C-suite employees to be paid more? What factors dictate this.\n",
    "- Another avenue of investigation could be comparing similar nonprofits to each along certain dimensions and see where some are lacking. For example, if I am operating a nonprofit operating in animal sector, it would be good to know how my revenue or expenses compare to similar nonprofits (similar in # of employees or donations received). This way I can determine where I am lacking and make some adjustments."
   ]
  }
 ],
 "metadata": {
  "kernelspec": {
   "display_name": "Python 3",
   "language": "python",
   "name": "python3"
  },
  "language_info": {
   "codemirror_mode": {
    "name": "ipython",
    "version": 3
   },
   "file_extension": ".py",
   "mimetype": "text/x-python",
   "name": "python",
   "nbconvert_exporter": "python",
   "pygments_lexer": "ipython3",
   "version": "3.9.1"
  }
 },
 "nbformat": 4,
 "nbformat_minor": 5
}
