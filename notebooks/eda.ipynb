{
 "cells": [
  {
   "cell_type": "code",
   "execution_count": 1,
   "id": "40e65c52",
   "metadata": {},
   "outputs": [],
   "source": [
    "import pandas as pd"
   ]
  },
  {
   "cell_type": "markdown",
   "id": "c23135ce",
   "metadata": {},
   "source": [
    "# EOBMF Dataset"
   ]
  },
  {
   "cell_type": "code",
   "execution_count": 20,
   "id": "114a36a1",
   "metadata": {},
   "outputs": [],
   "source": [
    "north_east = \"https://www.irs.gov/pub/irs-soi/eo1.csv\"\n",
    "mid_atlantic = \"https://www.irs.gov/pub/irs-soi/eo2.csv\"\n",
    "gulf_pacific_coasts = \"https://www.irs.gov/pub/irs-soi/eo3.csv\""
   ]
  },
  {
   "cell_type": "code",
   "execution_count": 31,
   "id": "2e4645fa",
   "metadata": {},
   "outputs": [],
   "source": [
    "df = pd.read_csv(north_east)"
   ]
  },
  {
   "cell_type": "code",
   "execution_count": null,
   "id": "097242ce",
   "metadata": {},
   "outputs": [],
   "source": [
    "df.head(10)"
   ]
  },
  {
   "cell_type": "code",
   "execution_count": 26,
   "id": "b63ae4bf",
   "metadata": {},
   "outputs": [
    {
     "data": {
      "text/plain": [
       "Index(['EIN', 'NAME', 'ICO', 'STREET', 'CITY', 'STATE', 'ZIP', 'GROUP',\n",
       "       'SUBSECTION', 'AFFILIATION', 'CLASSIFICATION', 'RULING',\n",
       "       'DEDUCTIBILITY', 'FOUNDATION', 'ACTIVITY', 'ORGANIZATION', 'STATUS',\n",
       "       'TAX_PERIOD', 'ASSET_CD', 'INCOME_CD', 'FILING_REQ_CD',\n",
       "       'PF_FILING_REQ_CD', 'ACCT_PD', 'ASSET_AMT', 'INCOME_AMT', 'REVENUE_AMT',\n",
       "       'NTEE_CD', 'SORT_NAME'],\n",
       "      dtype='object')"
      ]
     },
     "execution_count": 26,
     "metadata": {},
     "output_type": "execute_result"
    }
   ],
   "source": [
    "df.columns"
   ]
  },
  {
   "cell_type": "code",
   "execution_count": 23,
   "id": "2265456a",
   "metadata": {},
   "outputs": [
    {
     "data": {
      "text/plain": [
       "array(['MA', 'NY', 'NJ', 'ME', 'NH', 'VT', 'CT', 'RI'], dtype=object)"
      ]
     },
     "execution_count": 23,
     "metadata": {},
     "output_type": "execute_result"
    }
   ],
   "source": [
    "df['STATE'].unique()"
   ]
  },
  {
   "cell_type": "markdown",
   "id": "eb5ce4e0",
   "metadata": {},
   "source": [
    "# What is the 'grain'\n",
    "EOBMF Extract:\n",
    "- My understanding is this dataset is cumulative list of every unique tax-exempt business entity in the US. This list is updated on a monthly basis from the IRS. "
   ]
  },
  {
   "cell_type": "markdown",
   "id": "006ae125",
   "metadata": {},
   "source": [
    "# Broad Categories of Dataset\n",
    "\n",
    "EOBMF Extract has:\n",
    "- Geographical information\n",
    "- Organizational information\n",
    "- Most recent, high level tax information"
   ]
  },
  {
   "cell_type": "code",
   "execution_count": null,
   "id": "abd09b97",
   "metadata": {},
   "outputs": [],
   "source": []
  }
 ],
 "metadata": {
  "kernelspec": {
   "display_name": "Python 3",
   "language": "python",
   "name": "python3"
  },
  "language_info": {
   "codemirror_mode": {
    "name": "ipython",
    "version": 3
   },
   "file_extension": ".py",
   "mimetype": "text/x-python",
   "name": "python",
   "nbconvert_exporter": "python",
   "pygments_lexer": "ipython3",
   "version": "3.9.1"
  }
 },
 "nbformat": 4,
 "nbformat_minor": 5
}
